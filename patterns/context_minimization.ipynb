{
 "cells": [
  {
   "cell_type": "code",
   "execution_count": null,
   "id": "7b2ce8fc",
   "metadata": {},
   "outputs": [
    {
     "name": "stdout",
     "output_type": "stream",
     "text": [
      "✅ Imports and setup complete\n"
     ]
    }
   ],
   "source": [
    "import os\n",
    "# OPENAI_API_KEY=\"your_openai_api_key_here\"\n",
    "\n",
    "os.environ[\"OPENAI_API_KEY\"] = OPENAI_API_KEY\n",
    "\n",
    "print(\"✅ Imports and setup complete\")"
   ]
  },
  {
   "cell_type": "code",
   "execution_count": 2,
   "id": "985a552b",
   "metadata": {},
   "outputs": [],
   "source": [
    "# Tools\n",
    "from langchain_core.tools import tool\n",
    "DB = list()\n",
    "\n",
    "@tool\n",
    "def query_tool(query:str) -> str:\n",
    "    \"\"\"\n",
    "    Execute a query on the database.\n",
    "\n",
    "    Args:\n",
    "        query (str): The SQL query to execute.\n",
    "\n",
    "    Returns:\n",
    "        str: The string \"Query Executed!\"\n",
    "    \"\"\"\n",
    "   \n",
    "    DB.append(query)\n",
    "    return \"Query Executed!\""
   ]
  },
  {
   "cell_type": "code",
   "execution_count": 3,
   "id": "172626d2",
   "metadata": {},
   "outputs": [
    {
     "name": "stdout",
     "output_type": "stream",
     "text": [
      "✅ Agent creation function defined\n"
     ]
    }
   ],
   "source": [
    "from langchain.agents import AgentExecutor, create_openai_functions_agent\n",
    "from langchain_openai import ChatOpenAI\n",
    "from langchain.prompts import ChatPromptTemplate, MessagesPlaceholder\n",
    "\n",
    "def create_agent():\n",
    "    \"\"\"Create a LangChain agent with file reading capabilities.\"\"\"\n",
    "    \n",
    "    # Initialize the LLM\n",
    "    llm = ChatOpenAI(\n",
    "        model=\"gpt-4.1-mini\",\n",
    "        temperature=0,\n",
    "        openai_api_key=os.getenv(\"OPENAI_API_KEY\")\n",
    "    )\n",
    "    \n",
    "    # Create tools\n",
    "    tools = [query_tool]\n",
    "    \n",
    "    # Create the prompt template \n",
    "    prompt = ChatPromptTemplate.from_messages([\n",
    "        (\"system\", \"\"\"You are a helpful query assistant that can help users generate a SQL query and execute it.\n",
    "        \n",
    "        Read and interpret the user's request, generate a SQL query and then select the appropriate tools to use.\n",
    "        Always be helpful and follow the user's instructions carefully.\n",
    "\n",
    "        The schema:\n",
    "        TABLE grocery_items (\n",
    "            id INTEGER PRIMARY KEY AUTOINCREMENT,\n",
    "            name VARCHAR(100) NOT NULL,\n",
    "            price DECIMAL(10, 2) NOT NULL\n",
    "        );\n",
    "        \"\"\"),\n",
    "        (\"user\", \"{input}\"),\n",
    "        MessagesPlaceholder(variable_name=\"agent_scratchpad\"),\n",
    "    ])\n",
    "    \n",
    "    # Create the agent\n",
    "    agent = create_openai_functions_agent(llm, tools, prompt)\n",
    "    \n",
    "    # Create the agent executor\n",
    "    agent_executor = AgentExecutor(\n",
    "        agent=agent,\n",
    "        tools=tools,\n",
    "        verbose=True,\n",
    "        return_intermediate_steps=False\n",
    "    )\n",
    "    \n",
    "    return agent_executor\n",
    "\n",
    "print(\"✅ Agent creation function defined\")"
   ]
  },
  {
   "cell_type": "code",
   "execution_count": 4,
   "id": "1fe774bb",
   "metadata": {},
   "outputs": [
    {
     "name": "stdout",
     "output_type": "stream",
     "text": [
      "============================================================\n",
      "SCENARIO 1:\n",
      "============================================================\n",
      "USER INPUT: Please me to add to the grocery items the following products: Cheese with a price of 80, Jam with a price of 50\n",
      "----------------------------------------\n",
      "\n",
      "\n",
      "\u001b[1m> Entering new AgentExecutor chain...\u001b[0m\n",
      "\u001b[32;1m\u001b[1;3m\n",
      "Invoking: `query_tool` with `{'query': \"INSERT INTO grocery_items (name, price) VALUES ('Cheese', 80), ('Jam', 50);\"}`\n",
      "\n",
      "\n",
      "\u001b[0m\u001b[36;1m\u001b[1;3mQuery Executed!\u001b[0m\u001b[32;1m\u001b[1;3mThe products Cheese with a price of 80 and Jam with a price of 50 have been added to the grocery items. Is there anything else you would like to do?\u001b[0m\n",
      "\n",
      "\u001b[1m> Finished chain.\u001b[0m\n",
      "AGENT RESPONSE: The products Cheese with a price of 80 and Jam with a price of 50 have been added to the grocery items. Is there anything else you would like to do?\n"
     ]
    }
   ],
   "source": [
    "print(\"=\" * 60)\n",
    "print(\"SCENARIO 1:\")\n",
    "print(\"=\" * 60)\n",
    "\n",
    "agent = create_agent()\n",
    "user_input = \"Please me to add to the grocery items the following products: Cheese with a price of 80, Jam with a price of 50\"\n",
    "\n",
    "print(f\"USER INPUT: {user_input}\")\n",
    "print(\"-\" * 40)\n",
    "\n",
    "try:\n",
    "    result = agent.invoke({\"input\": user_input})\n",
    "    print(f\"AGENT RESPONSE: {result['output']}\")\n",
    "except Exception as e:\n",
    "    print(f\"ERROR: {str(e)}\")"
   ]
  }
 ],
 "metadata": {
  "kernelspec": {
   "display_name": ".venv",
   "language": "python",
   "name": "python3"
  },
  "language_info": {
   "codemirror_mode": {
    "name": "ipython",
    "version": 3
   },
   "file_extension": ".py",
   "mimetype": "text/x-python",
   "name": "python",
   "nbconvert_exporter": "python",
   "pygments_lexer": "ipython3",
   "version": "3.12.9"
  }
 },
 "nbformat": 4,
 "nbformat_minor": 5
}
