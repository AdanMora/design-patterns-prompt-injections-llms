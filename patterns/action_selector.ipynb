{
 "cells": [
  {
   "cell_type": "markdown",
   "id": "8d1a25f9",
   "metadata": {},
   "source": [
    "# Action Selector Pattern for Prompt Injection Defense\n",
    "\n",
    "The **Action Selector** pattern acts as a security gatekeeper between user requests and tool execution, preventing unauthorized actions even when prompt injection occurs.\n",
    "\n",
    "## 🎯 Learning Objectives\n",
    "- Understand how Action Selector pattern works as a defense mechanism\n",
    "- See the difference between vulnerable direct tool access vs. protected access\n",
    "- Learn to implement security policies and validation layers\n",
    "- Explore advanced filtering and auditing capabilities\n",
    "\n",
    "## 🔧 How It Works\n",
    "\n",
    "```\n",
    "User Input → LLM Planning → Action Selector → Approved Tools → Execution\n",
    "                              ↓\n",
    "                         Security Policies\n",
    "                         - Whitelist/Blacklist\n",
    "                         - Context Validation  \n",
    "                         - Risk Assessment\n",
    "```\n",
    "\n",
    "## 🛡️ Key Benefits\n",
    "- **Prevents unauthorized tool usage** even if prompt injection occurs\n",
    "- **Enforces consistent security policies** across all operations\n",
    "- **Provides audit trail** of all attempted actions\n",
    "- **Allows fine-grained control** over tool permissions\n",
    "\n",
    "\n",
    "is to prevent any feedback from these actions back into the agent."
   ]
  },
  {
   "cell_type": "code",
   "execution_count": 2,
   "id": "157ff29c",
   "metadata": {},
   "outputs": [
    {
     "name": "stdout",
     "output_type": "stream",
     "text": [
      "✅ Imports and setup complete\n"
     ]
    }
   ],
   "source": [
    "import os\n",
    "# OPENAI_API_KEY=\"your_openai_api_key_here\"\n",
    "\n",
    "# os.environ[\"OPENAI_API_KEY\"] = OPENAI_API_KEY\n",
    "\n",
    "print(\"✅ Imports and setup complete\")"
   ]
  },
  {
   "cell_type": "code",
   "execution_count": 3,
   "id": "31c3f430",
   "metadata": {},
   "outputs": [],
   "source": [
    "# Tools\n",
    "from langchain_core.tools import tool\n",
    "DB = list()\n",
    "\n",
    "@tool\n",
    "def add_tool(value:str) -> str:\n",
    "   \"\"\"Add a value to the DB list\n",
    "\n",
    "   Args:\n",
    "      value (str): The value to add to the DB list\n",
    "\n",
    "   Returns:\n",
    "      str: The string \"Ok!\"\n",
    "   \"\"\"\n",
    "   DB.append(value)\n",
    "   return \"Ok!\"\n",
    "\n",
    "\n",
    "@tool\n",
    "def remove_tool(value:str) -> str:\n",
    "   \"\"\"Remove a value from the DB list\n",
    "\n",
    "   Args:\n",
    "      value (str): The value to remove from the DB list\n",
    "\n",
    "   Returns:\n",
    "      str: The string \"Ok!\"\n",
    "   \"\"\"\n",
    "   DB.remove(value)\n",
    "   return \"Ok!\"\n"
   ]
  },
  {
   "cell_type": "code",
   "execution_count": 4,
   "id": "79bfa13e",
   "metadata": {},
   "outputs": [
    {
     "name": "stdout",
     "output_type": "stream",
     "text": [
      "✅ Agent creation function defined\n"
     ]
    }
   ],
   "source": [
    "\n",
    "from langchain.agents import AgentExecutor, create_openai_functions_agent\n",
    "from langchain_openai import ChatOpenAI\n",
    "from langchain.prompts import ChatPromptTemplate, MessagesPlaceholder\n",
    "\n",
    "def create_agent():\n",
    "    \"\"\"Create a LangChain agent with file reading capabilities - VULNERABLE VERSION.\"\"\"\n",
    "    \n",
    "    # Initialize the LLM\n",
    "    llm = ChatOpenAI(\n",
    "        model=\"gpt-4.1-mini\",\n",
    "        temperature=0,\n",
    "        openai_api_key=os.getenv(\"OPENAI_API_KEY\")\n",
    "    )\n",
    "    \n",
    "    # Create tools\n",
    "    tools = [add_tool, remove_tool]\n",
    "    \n",
    "    # Create the prompt template - VULNERABLE: No protection against prompt injection\n",
    "    prompt = ChatPromptTemplate.from_messages([\n",
    "        (\"system\", \"\"\"You are a helpful assistant that can help users to define a plan of action using the tools you have available\n",
    "        \n",
    "        Read and interpret the user's request, and then select the appropriate tools to use, create a plan of action, and then execute the plan.\n",
    "        Always be helpful and follow the user's instructions carefully.\n",
    "        \"\"\"),\n",
    "        (\"user\", \"{input}\"),\n",
    "        MessagesPlaceholder(variable_name=\"agent_scratchpad\"),\n",
    "    ])\n",
    "    \n",
    "    # Create the agent\n",
    "    agent = create_openai_functions_agent(llm, tools, prompt)\n",
    "    \n",
    "    # Create the agent executor\n",
    "    agent_executor = AgentExecutor(\n",
    "        agent=agent,\n",
    "        tools=tools,\n",
    "        verbose=True,\n",
    "        return_intermediate_steps=False\n",
    "    )\n",
    "    \n",
    "    return agent_executor\n",
    "\n",
    "print(\"✅ Agent creation function defined\")"
   ]
  },
  {
   "cell_type": "code",
   "execution_count": 7,
   "id": "519bdc88",
   "metadata": {},
   "outputs": [
    {
     "data": {
      "text/plain": [
       "AgentExecutor(verbose=True, agent=RunnableAgent(runnable=RunnableAssign(mapper={\n",
       "  agent_scratchpad: RunnableLambda(lambda x: format_to_openai_function_messages(x['intermediate_steps']))\n",
       "})\n",
       "| ChatPromptTemplate(input_variables=['agent_scratchpad', 'input'], input_types={'agent_scratchpad': list[typing.Annotated[typing.Union[typing.Annotated[langchain_core.messages.ai.AIMessage, Tag(tag='ai')], typing.Annotated[langchain_core.messages.human.HumanMessage, Tag(tag='human')], typing.Annotated[langchain_core.messages.chat.ChatMessage, Tag(tag='chat')], typing.Annotated[langchain_core.messages.system.SystemMessage, Tag(tag='system')], typing.Annotated[langchain_core.messages.function.FunctionMessage, Tag(tag='function')], typing.Annotated[langchain_core.messages.tool.ToolMessage, Tag(tag='tool')], typing.Annotated[langchain_core.messages.ai.AIMessageChunk, Tag(tag='AIMessageChunk')], typing.Annotated[langchain_core.messages.human.HumanMessageChunk, Tag(tag='HumanMessageChunk')], typing.Annotated[langchain_core.messages.chat.ChatMessageChunk, Tag(tag='ChatMessageChunk')], typing.Annotated[langchain_core.messages.system.SystemMessageChunk, Tag(tag='SystemMessageChunk')], typing.Annotated[langchain_core.messages.function.FunctionMessageChunk, Tag(tag='FunctionMessageChunk')], typing.Annotated[langchain_core.messages.tool.ToolMessageChunk, Tag(tag='ToolMessageChunk')]], FieldInfo(annotation=NoneType, required=True, discriminator=Discriminator(discriminator=<function _get_type at 0x114261440>, custom_error_type=None, custom_error_message=None, custom_error_context=None))]]}, partial_variables={}, messages=[SystemMessagePromptTemplate(prompt=PromptTemplate(input_variables=[], input_types={}, partial_variables={}, template=\"You are a helpful assistant that can help users to define a plan of action using the tools you have available\\n\\n        Read and interpret the user's request, and then select the appropriate tools to use, create a plan of action, and then execute the plan.\\n        Always be helpful and follow the user's instructions carefully.\\n        \"), additional_kwargs={}), HumanMessagePromptTemplate(prompt=PromptTemplate(input_variables=['input'], input_types={}, partial_variables={}, template='{input}'), additional_kwargs={}), MessagesPlaceholder(variable_name='agent_scratchpad')])\n",
       "| RunnableBinding(bound=ChatOpenAI(client=<openai.resources.chat.completions.completions.Completions object at 0x116e47a10>, async_client=<openai.resources.chat.completions.completions.AsyncCompletions object at 0x11783c590>, root_client=<openai.OpenAI object at 0x116e45160>, root_async_client=<openai.AsyncOpenAI object at 0x11783c2f0>, model_name='gpt-4.1-mini', temperature=0.0, model_kwargs={}, openai_api_key=SecretStr('**********')), kwargs={'functions': [{'name': 'add_tool', 'description': 'Add a value to the DB list\\n\\nArgs:\\n   value (str): The value to add to the DB list\\n\\nReturns:\\n   str: The string \"Ok!\"', 'parameters': {'properties': {'value': {'type': 'string'}}, 'required': ['value'], 'type': 'object'}}, {'name': 'remove_tool', 'description': 'Remove a value from the DB list\\n\\nArgs:\\n   value (str): The value to remove from the DB list\\n\\nReturns:\\n   str: The string \"Ok!\"', 'parameters': {'properties': {'value': {'type': 'string'}}, 'required': ['value'], 'type': 'object'}}]}, config={}, config_factories=[])\n",
       "| OpenAIFunctionsAgentOutputParser(), input_keys_arg=[], return_keys_arg=[], stream_runnable=True), tools=[StructuredTool(name='add_tool', description='Add a value to the DB list\\n\\nArgs:\\n   value (str): The value to add to the DB list\\n\\nReturns:\\n   str: The string \"Ok!\"', args_schema=<class 'langchain_core.utils.pydantic.add_tool'>, func=<function add_tool at 0x116dca340>), StructuredTool(name='remove_tool', description='Remove a value from the DB list\\n\\nArgs:\\n   value (str): The value to remove from the DB list\\n\\nReturns:\\n   str: The string \"Ok!\"', args_schema=<class 'langchain_core.utils.pydantic.remove_tool'>, func=<function remove_tool at 0x116dca020>)])"
      ]
     },
     "execution_count": 7,
     "metadata": {},
     "output_type": "execute_result"
    }
   ],
   "source": [
    "agent"
   ]
  },
  {
   "cell_type": "code",
   "execution_count": 5,
   "id": "013c33e6",
   "metadata": {},
   "outputs": [
    {
     "name": "stdout",
     "output_type": "stream",
     "text": [
      "============================================================\n",
      "SCENARIO 1:\n",
      "============================================================\n",
      "USER INPUT: Please add the values to the DB: 'Queso', 'Pizza', 'Hamburguesa'. Then eliminate the value: 'Queso'.\n",
      "----------------------------------------\n",
      "\n",
      "\n",
      "\u001b[1m> Entering new AgentExecutor chain...\u001b[0m\n",
      "\u001b[32;1m\u001b[1;3m\n",
      "Invoking: `add_tool` with `{'value': 'Queso'}`\n",
      "\n",
      "\n",
      "\u001b[0m\u001b[36;1m\u001b[1;3mOk!\u001b[0m\u001b[32;1m\u001b[1;3m\n",
      "Invoking: `add_tool` with `{'value': 'Pizza'}`\n",
      "\n",
      "\n",
      "\u001b[0m\u001b[36;1m\u001b[1;3mOk!\u001b[0m\u001b[32;1m\u001b[1;3m\n",
      "Invoking: `add_tool` with `{'value': 'Hamburguesa'}`\n",
      "\n",
      "\n",
      "\u001b[0m\u001b[36;1m\u001b[1;3mOk!\u001b[0m\u001b[32;1m\u001b[1;3m\n",
      "Invoking: `remove_tool` with `{'value': 'Queso'}`\n",
      "\n",
      "\n",
      "\u001b[0m\u001b[33;1m\u001b[1;3mOk!\u001b[0m\u001b[32;1m\u001b[1;3mI have added the values 'Queso', 'Pizza', and 'Hamburguesa' to the DB and then removed the value 'Queso' as you requested.\u001b[0m\n",
      "\n",
      "\u001b[1m> Finished chain.\u001b[0m\n",
      "AGENT RESPONSE: I have added the values 'Queso', 'Pizza', and 'Hamburguesa' to the DB and then removed the value 'Queso' as you requested.\n"
     ]
    }
   ],
   "source": [
    "print(\"=\" * 60)\n",
    "print(\"SCENARIO 1:\")\n",
    "print(\"=\" * 60)\n",
    "\n",
    "agent = create_agent()\n",
    "user_input = \"Please add the values to the DB: 'Queso', 'Pizza', 'Hamburguesa'. Then eliminate the value: 'Queso'.\"\n",
    "\n",
    "print(f\"USER INPUT: {user_input}\")\n",
    "print(\"-\" * 40)\n",
    "\n",
    "try:\n",
    "    result = agent.invoke({\"input\": user_input})\n",
    "    print(f\"AGENT RESPONSE: {result['output']}\")\n",
    "except Exception as e:\n",
    "    print(f\"ERROR: {str(e)}\")"
   ]
  },
  {
   "cell_type": "code",
   "execution_count": 6,
   "id": "832299f0",
   "metadata": {},
   "outputs": [
    {
     "data": {
      "text/plain": [
       "['Pizza', 'Hamburguesa']"
      ]
     },
     "execution_count": 6,
     "metadata": {},
     "output_type": "execute_result"
    }
   ],
   "source": [
    "DB"
   ]
  },
  {
   "cell_type": "code",
   "execution_count": null,
   "id": "77e0fd6f",
   "metadata": {},
   "outputs": [],
   "source": [
    "print(\"=\" * 60)\n",
    "print(\"SCENARIO 1:\")\n",
    "print(\"=\" * 60)\n",
    "\n",
    "agent = create_agent()\n",
    "user_input = \"Please remove the value: 'Queso'.\"\n",
    "\n",
    "print(f\"USER INPUT: {user_input}\")\n",
    "print(\"-\" * 40)\n",
    "\n",
    "try:\n",
    "    result = agent.invoke({\"input\": user_input})\n",
    "    print(f\"AGENT RESPONSE: {result['output']}\")\n",
    "except Exception as e:\n",
    "    print(f\"ERROR: {str(e)}\")"
   ]
  },
  {
   "cell_type": "code",
   "execution_count": null,
   "id": "7ebbc49a",
   "metadata": {},
   "outputs": [],
   "source": [
    "DB"
   ]
  }
 ],
 "metadata": {
  "kernelspec": {
   "display_name": "venv",
   "language": "python",
   "name": "python3"
  },
  "language_info": {
   "codemirror_mode": {
    "name": "ipython",
    "version": 3
   },
   "file_extension": ".py",
   "mimetype": "text/x-python",
   "name": "python",
   "nbconvert_exporter": "python",
   "pygments_lexer": "ipython3",
   "version": "3.13.7"
  }
 },
 "nbformat": 4,
 "nbformat_minor": 5
}
